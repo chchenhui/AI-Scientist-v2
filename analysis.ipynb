{
 "cells": [
  {
   "cell_type": "code",
   "execution_count": 5,
   "id": "ca08c9d3",
   "metadata": {},
   "outputs": [
    {
     "name": "stdout",
     "output_type": "stream",
     "text": [
      "Total cost: $1.59\n"
     ]
    }
   ],
   "source": [
    "prices = {\n",
    "                \"prompt\": 1.1 / 1000000,  # $1.10 per 1M tokens\n",
    "                \"cached\": 0.55 / 1000000,  # $0.55 per 1M tokens\n",
    "                \"completion\": 4.4 / 1000000,  # $4.40 per 1M tokens\n",
    "}\n",
    "# iclr2025_bi_align\n",
    "tokens = {\"prompt\": 614522, \"completion\": 214801, \"reasoning\": 97344, \"cached\": 65152}\n",
    "def calculate_cost(prices, tokens) -> float:\n",
    "        \"\"\"Calculate the cost for a specific model based on token usage.\"\"\"\n",
    "\n",
    "        # Calculate cost for prompt and completion tokens\n",
    "        if \"cached\" in prices:\n",
    "            prompt_cost = (tokens[\"prompt\"] - tokens[\"cached\"]) * prices[\"prompt\"]\n",
    "            cached_cost = tokens[\"cached\"] * prices[\"cached\"]\n",
    "        else:\n",
    "            prompt_cost = tokens[\"prompt\"] * prices[\"prompt\"]\n",
    "            cached_cost = 0\n",
    "        completion_cost = tokens[\"completion\"] * prices[\"completion\"]\n",
    "\n",
    "        return prompt_cost + cached_cost + completion_cost\n",
    "print(f\"Total cost: ${calculate_cost(prices, tokens):.2f}\")"
   ]
  },
  {
   "cell_type": "code",
   "execution_count": null,
   "id": "5ced4c4e",
   "metadata": {},
   "outputs": [
    {
     "name": "stdout",
     "output_type": "stream",
     "text": [
      "Total cost: $1.47\n"
     ]
    }
   ],
   "source": [
    "# iclr2025_verifai\n",
    "tokens = {\"prompt\": 461547, \"completion\": 226643, \"reasoning\": 109504, \"cached\": 56448}\n",
    "print(f\"Total cost: ${calculate_cost(prices, tokens):.2f}\")"
   ]
  },
  {
   "cell_type": "code",
   "execution_count": 8,
   "id": "77e0249f",
   "metadata": {},
   "outputs": [
    {
     "name": "stdout",
     "output_type": "stream",
     "text": [
      "Total cost: $1.78\n"
     ]
    }
   ],
   "source": [
    "# iclr2025_buildingtrust\n",
    "tokens = {\"prompt\": 581443, \"completion\": 271324, \"reasoning\": 129280, \"cached\": 88704}\n",
    "print(f\"Total cost: ${calculate_cost(prices, tokens):.2f}\")"
   ]
  },
  {
   "cell_type": "code",
   "execution_count": 9,
   "id": "8cec3f85",
   "metadata": {},
   "outputs": [
    {
     "name": "stdout",
     "output_type": "stream",
     "text": [
      "Total cost: $2.23\n"
     ]
    }
   ],
   "source": [
    "# iclr2025_scsl\n",
    "tokens = {\"prompt\": 762278, \"completion\": 337219, \"reasoning\": 152768, \"cached\": 169088}\n",
    "print(f\"Total cost: ${calculate_cost(prices, tokens):.2f}\")"
   ]
  },
  {
   "cell_type": "code",
   "execution_count": 10,
   "id": "f925d806",
   "metadata": {},
   "outputs": [
    {
     "name": "stdout",
     "output_type": "stream",
     "text": [
      "Total cost: $1.55\n"
     ]
    }
   ],
   "source": [
    "# iclr2025_dl4c\n",
    "tokens = {\"prompt\": 416491, \"completion\": 258696, \"reasoning\": 118144, \"cached\": 78080}\n",
    "print(f\"Total cost: ${calculate_cost(prices, tokens):.2f}\")"
   ]
  }
 ],
 "metadata": {
  "kernelspec": {
   "display_name": "ai_scientist",
   "language": "python",
   "name": "python3"
  },
  "language_info": {
   "codemirror_mode": {
    "name": "ipython",
    "version": 3
   },
   "file_extension": ".py",
   "mimetype": "text/x-python",
   "name": "python",
   "nbconvert_exporter": "python",
   "pygments_lexer": "ipython3",
   "version": "3.11.11"
  }
 },
 "nbformat": 4,
 "nbformat_minor": 5
}
